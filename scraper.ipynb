{
 "cells": [
  {
   "cell_type": "markdown",
   "metadata": {},
   "source": [
    "### Imports"
   ]
  },
  {
   "cell_type": "code",
   "execution_count": 1,
   "metadata": {},
   "outputs": [],
   "source": [
    "import os\n",
    "import json\n",
    "import requests\n",
    "from bs4 import BeautifulSoup\n",
    "import datetime\n",
    "from deep_translator import GoogleTranslator"
   ]
  },
  {
   "cell_type": "markdown",
   "metadata": {},
   "source": [
    "### Utils"
   ]
  },
  {
   "cell_type": "code",
   "execution_count": 2,
   "metadata": {},
   "outputs": [],
   "source": [
    "def translate(text, source='pl', target='en'):\n",
    "    return GoogleTranslator(source, target).translate(text)"
   ]
  },
  {
   "cell_type": "code",
   "execution_count": 3,
   "metadata": {},
   "outputs": [],
   "source": [
    "def extract(ancestor, selector=None, attribute=None, multiple=False):\n",
    "    if selector:\n",
    "        if multiple:\n",
    "            if attribute:\n",
    "                return [tag[attribute].strip() for tag in ancestor.select(selector)]\n",
    "            return [tag.text.strip() for tag in ancestor.select(selector)]\n",
    "        if attribute:\n",
    "            try:\n",
    "                return ancestor.select_one(selector)[attribute].strip()\n",
    "            except TypeError:\n",
    "                return None\n",
    "            \n",
    "        try:\n",
    "            return ancestor.select_one(selector).text.strip()\n",
    "        except AttributeError:\n",
    "            return None\n",
    "    if attribute:\n",
    "        return ancestor[attribute]\n",
    "    return ancestor.text.strip()"
   ]
  },
  {
   "cell_type": "code",
   "execution_count": 4,
   "metadata": {},
   "outputs": [],
   "source": [
    "            \n",
    "selectors = {\n",
    "'opinion_id': (None, \"data-entry-id\"),\n",
    "'author': (\"span.user-post__author-name\",),\n",
    "'recomend': (\"span.user-post__author-recomendation > em\",),\n",
    "'stars':(\"span.user-post__score-count\",),\n",
    "'content_pl': (\"div.user-post__text\",),\n",
    "'pros_pl' :(\"div.review-feature__item.review-feature__item--positive\", None, True),\n",
    "'cons_pl' : (\"div.review-feature__item.review-feature__item--negative\", None, True),\n",
    "'up_votes' : (\"button.vote-yes\", \"data-total-vote\"),\n",
    "'down_votes' : (\"button.vote-no\", \"data-total-vote\"),\n",
    "'published' : (\"span.user-post__published > time:nth-child(1)\", \"datetime\"),\n",
    "'purchased' : (\"span.user-post__published > span > time:nth-child(2)\", \"datetime\")\n",
    "} "
   ]
  },
  {
   "cell_type": "markdown",
   "metadata": {},
   "source": [
    "### Extraction of opinions"
   ]
  },
  {
   "cell_type": "code",
   "execution_count": 5,
   "metadata": {},
   "outputs": [],
   "source": [
    "with open(\"./cookie.json\", \"r\", encoding=\"UTF-8\") as jf:\n",
    "   headers = json.load(jf)"
   ]
  },
  {
   "cell_type": "code",
   "execution_count": 9,
   "metadata": {},
   "outputs": [
    {
     "name": "stdout",
     "output_type": "stream",
     "text": [
      "https://www.ceneo.pl/46584356;02517#tab=reviews\n",
      "https://www.ceneo.pl/46584356/opinie-2\n",
      "[{'opinion_id': '12969513', 'author': 'e...k', 'recomend': True, 'stars': 5.0, 'content_pl': 'Wszystko ok natomiast zastanawia mnie samo siedzisko ponieważ już po krótkim użytkowaniu widać że jest dół. Oby nie pękło', 'pros_pl': ['jakość', 'trwałość', 'wygląd'], 'cons_pl': [], 'up_votes': 0, 'down_votes': 0, 'published': '2020-08-18 13:29:15', 'purchased': '2020-07-18 13:06:24', 'content_en': 'Everything ok, however, puts on the seat itself because after short use you can see that it is down. May it not break', 'pros_en': ['quality', 'durability', 'appearance'], 'cons_en': []}, {'opinion_id': '12893951', 'author': 's...y', 'recomend': True, 'stars': 5.0, 'content_pl': 'Solidnie wykonany, stabilny - serdecznie polecam !!!', 'pros_pl': ['jakość', 'trwałość', 'wygląd'], 'cons_pl': [], 'up_votes': 1, 'down_votes': 0, 'published': '2020-08-03 20:33:13', 'purchased': '2020-07-15 15:11:05', 'content_en': 'Solidly made, stable - I highly recommend it !!!', 'pros_en': ['quality', 'durability', 'appearance'], 'cons_en': []}, {'opinion_id': '12472590', 'author': 'k...a', 'recomend': True, 'stars': 5.0, 'content_pl': 'Cudne', 'pros_pl': ['jakość', 'trwałość', 'wygląd'], 'cons_pl': [], 'up_votes': 0, 'down_votes': 0, 'published': '2020-05-20 14:24:36', 'purchased': '2020-05-15 13:14:58', 'content_en': 'Wonderful', 'pros_en': ['quality', 'durability', 'appearance'], 'cons_en': []}, {'opinion_id': '12313854', 'author': 'kwikus', 'recomend': True, 'stars': 5.0, 'content_pl': 'Dobra jakość. Idealny na małe balkony.', 'pros_pl': [], 'cons_pl': [], 'up_votes': 0, 'down_votes': 0, 'published': '2020-05-01 21:14:07', 'purchased': '2020-04-21 12:43:31', 'content_en': 'Good quality. Perfect for small balconies.', 'pros_en': [], 'cons_en': []}, {'opinion_id': '15010296', 'author': 'l...u', 'recomend': True, 'stars': 5.0, 'content_pl': 'Dokładnie tego szukałam', 'pros_pl': [], 'cons_pl': [], 'up_votes': 0, 'down_votes': 1, 'published': '2021-09-29 10:49:00', 'purchased': '2021-09-23 11:43:25', 'content_en': 'I was looking for it exactly', 'pros_en': [], 'cons_en': []}, {'opinion_id': '14508033', 'author': 'b...2', 'recomend': True, 'stars': 5.0, 'content_pl': 'Soper', 'pros_pl': ['jakość', 'trwałość', 'wygląd'], 'cons_pl': [], 'up_votes': 0, 'down_votes': 0, 'published': '2021-05-25 09:53:33', 'purchased': '2021-05-11 21:15:10', 'content_en': 'Soper', 'pros_en': ['quality', 'durability', 'appearance'], 'cons_en': []}, {'opinion_id': '14972464', 'author': 'b...2', 'recomend': True, 'stars': 5.0, 'content_pl': 'Elegancki zestaw balkonowy z bardzo wygodnymi, solidnymi fotelami. Produkt zgodny z opisem wraz z poduchami oraz szybką i sprawną obsługą oraz dostawą. Chwila relaksu na balkonie lub tarasie. Polecam serdecznie.', 'pros_pl': ['jakość', 'trwałość', 'wygląd'], 'cons_pl': [], 'up_votes': 0, 'down_votes': 0, 'published': '2021-09-18 18:24:07', 'purchased': '2021-08-15 20:15:43', 'content_en': 'An elegant balcony set with very comfortable, solid armchairs. The product is in accordance with the description with cushions as well as fast and efficient service and delivery. A moment of relaxation on the balcony or terrace. I heartily recommend.', 'pros_en': ['quality', 'durability', 'appearance'], 'cons_en': []}, {'opinion_id': '14488334', 'author': 'a...5', 'recomend': True, 'stars': 5.0, 'content_pl': 'Towar sam w sobie powiem na 5+ ale długo sie na niego czeka. towar w pierwszej paczce przyszedł nie kompletny powiadomiłam @ firmę. czekanie na dosłanie reszty zakupu to po prostu tragedia.', 'pros_pl': [], 'cons_pl': [], 'up_votes': 0, 'down_votes': 0, 'published': '2021-05-20 18:22:38', 'purchased': '2021-04-18 14:15:56', 'content_en': 'I will tell the goods in itself for 5+ but it waits for it for a long time. Goods in the first package came not complete I informed @ company. Waiting for the rest of the purchase is simply a tragedy.', 'pros_en': [], 'cons_en': []}, {'opinion_id': '16486941', 'author': 'e...a', 'recomend': True, 'stars': 5.0, 'content_pl': 'Bardzo dobrze wykonane mabelki balkonowe. Montaż nie był skomplikowany lecz dość żmudny. Wszystkie elementy świetnie spasowane. Ogólnie mówiąc bardzo estetyczny i solidny produkt.', 'pros_pl': [], 'cons_pl': [], 'up_votes': 0, 'down_votes': 0, 'published': '2022-09-04 19:44:20', 'purchased': '2022-08-18 21:00:53', 'content_en': 'Very well made balcony tags. The assembly was not complicated but quite tedious. All elements well folded. Generally speaking, a very aesthetic and solid product.', 'pros_en': [], 'cons_en': []}, {'opinion_id': '13072242', 'author': 'p...h', 'recomend': True, 'stars': 5.0, 'content_pl': 'Jakoś produktu jak na tą cenę dobra. Zestaw do siedzenia bardzo wygodny, nie gniecie i nie uwiera. Krzesła dostosowane do każdej wagi ciała. Nóżki stabilne, nie chwieją się.', 'pros_pl': [], 'cons_pl': [], 'up_votes': 0, 'down_votes': 0, 'published': '2020-09-11 09:27:36', 'purchased': '2020-08-22 20:45:12', 'content_en': 'Somehow the product is good for this price. The seating kit is very comfortable, not crushing and does not hurt. Chairs adapted to each body weight. Stable legs, do not wander.', 'pros_en': [], 'cons_en': []}]\n"
     ]
    }
   ],
   "source": [
    "product_id = input(\"Please enter product code: \")\n",
    "url = f\"https://www.ceneo.pl/{product_id}#tab=reviews\"\n",
    "all_opinions = []\n",
    "while url:\n",
    "    response = requests.get(url, headers=headers)\n",
    "    if response.status_code == 200:\n",
    "        print(url)\n",
    "        page_dom = BeautifulSoup(response.text, \"html.parser\")\n",
    "        opinions = page_dom.select(\"div.js_product-review:not(.user-post--highlight)\")\n",
    "        for opinion in opinions:\n",
    "            single_opinion = {\n",
    "                key: extract(opinion, *values) \n",
    "                for key, values in selectors.items()\n",
    "            }\n",
    "            single_opinion[\"content_en\"] = translate(single_opinion[\"content_pl\"])\n",
    "            single_opinion[\"pros_en\"] = [translate(pros) for pros in single_opinion[\"pros_pl\"]]\n",
    "            single_opinion[\"cons_en\"] = [translate(cons) for cons in single_opinion[\"cons_pl\"]]\n",
    "            single_opinion[\"recomend\"] = True if single_opinion[\"recomend\"] == \"Polecam\" else False if single_opinion[\"recomend\"] == \"Nie polecam\" else None\n",
    "            single_opinion[\"stars\"] = float(single_opinion[\"stars\"].split(\"/\")[0].replace(\",\", \".\"))\n",
    "            #single_opinion[\"published\"] = datetime.datetime.fromisoformat(single_opinion[\"published\"])\n",
    "            #single_opinion[\"purchased\"] = datetime.datetime.fromisoformat(single_opinion[\"purchased\"]) if single_opinion[\"purchased\"] else None\n",
    "            single_opinion[\"up_votes\"] = int(single_opinion[\"up_votes\"])\n",
    "            single_opinion[\"down_votes\"] = int(single_opinion[\"down_votes\"])\n",
    "            all_opinions.append(single_opinion)\n",
    "        try:\n",
    "            url = \"https://www.ceneo.pl\"+page_dom.select_one(\"a.pagination__next\")[\"href\"]\n",
    "        except TypeError:\n",
    "            url = None\n",
    "print(all_opinions)\n"
   ]
  },
  {
   "cell_type": "markdown",
   "metadata": {},
   "source": [
    "### Creation of database"
   ]
  },
  {
   "cell_type": "code",
   "execution_count": 6,
   "metadata": {},
   "outputs": [],
   "source": [
    "if not os.path.exists(\"./opinions\"):\n",
    "    os.mkdir(\"./opinions\")"
   ]
  },
  {
   "cell_type": "code",
   "execution_count": 10,
   "metadata": {},
   "outputs": [],
   "source": [
    "with open(f\"./opinions/{product_id}.json\", \"w\", encoding=\"UTF-8\") as jf:\n",
    "    json.dump(all_opinions, jf, indent=4, ensure_ascii=False)"
   ]
  }
 ],
 "metadata": {
  "kernelspec": {
   "display_name": ".venv",
   "language": "python",
   "name": "python3"
  },
  "language_info": {
   "codemirror_mode": {
    "name": "ipython",
    "version": 3
   },
   "file_extension": ".py",
   "mimetype": "text/x-python",
   "name": "python",
   "nbconvert_exporter": "python",
   "pygments_lexer": "ipython3",
   "version": "3.11.9"
  }
 },
 "nbformat": 4,
 "nbformat_minor": 2
}
