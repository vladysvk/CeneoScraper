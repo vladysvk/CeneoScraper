{
 "cells": [
  {
   "cell_type": "markdown",
   "metadata": {},
   "source": [
    "### Imports"
   ]
  },
  {
   "cell_type": "code",
   "execution_count": 25,
   "metadata": {},
   "outputs": [],
   "source": [
    "import os\n",
    "import json\n",
    "import requests\n",
    "from bs4 import BeautifulSoup"
   ]
  },
  {
   "cell_type": "markdown",
   "metadata": {},
   "source": [
    "1. Extraction of opinions"
   ]
  },
  {
   "cell_type": "code",
   "execution_count": 18,
   "metadata": {},
   "outputs": [],
   "source": [
    "with open(\"./cookie.json\", \"r\", encoding=\"UTF-8\") as jf:\n",
    "   headers = json.load(jf)"
   ]
  },
  {
   "cell_type": "code",
   "execution_count": 30,
   "metadata": {},
   "outputs": [
    {
     "name": "stdout",
     "output_type": "stream",
     "text": [
      "[{'opinion_id': '19535811', 'author': 'a...h', 'recomend': 'Polecam', 'stars': '5/5', 'content': 'Świetna suszarka, spełnia wszystkie moje oczekiwania. Szybko suszy długie włosy. Mała, lekka i poręczna. Testuję dodatkowe końcówki do stylizacji. Jest też cicha suszarka więc nie mam już wyrzutów sumienia że budzę rodzinę nad ranem.', 'pros': ['bardzo estetyczny wy', 'głośność pracy', 'mały gabaryt', 'moc', 'szybkość nagrzewania', 'świetne dodatki', 'wygląd'], 'cons': [], 'up_votes': '0', 'down_votes': '0', 'published': '2025-03-19 16:39:41', 'purchased': '2025-03-03 07:48:53'}, {'opinion_id': '19170406', 'author': 'i...a', 'recomend': 'Polecam', 'stars': '5/5', 'content': 'Suszarka spełnia swoją funkcję, jest bardzo poręczna, mała ale o dużej mocy. Końcówki świetnie wygładzają lub kręcą włosy - zależnie od ustawień. Bardzo polecam ten produkt. Szczególnie w takiej cenie!', 'pros': ['głośność pracy', 'szybkość nagrzewania', 'wygląd'], 'cons': [], 'up_votes': '0', 'down_votes': '0', 'published': '2024-10-30 10:29:22', 'purchased': '2024-09-28 22:59:32'}, {'opinion_id': '19452211', 'author': 'a...2', 'recomend': 'Polecam', 'stars': '5/5', 'content': 'Produkt dobrze wykonany. Moc bardzo dobra. Najlepsze suszarka jaką miałam do tej pory 😊.\\nPolecam bardzo, bardzo...', 'pros': ['bardzo estetyczny wy', 'głośność pracy', 'mały gabaryt', 'moc', 'szybkość nagrzewania', 'świetne dodatki', 'wygląd'], 'cons': [], 'up_votes': '0', 'down_votes': '0', 'published': '2025-02-16 19:29:49', 'purchased': '2025-01-19 22:36:40'}, {'opinion_id': '19527462', 'author': 'd...a', 'recomend': 'Polecam', 'stars': '5/5', 'content': 'Jak tylko odebrałam paczkę, od razu przetestowałam suszarkę. Na suchych włosach(!) użyłam wygładzania a potem lokówki. Rewelacja.', 'pros': ['bardzo estetyczny wy', 'szybkość nagrzewania', 'wygląd'], 'cons': [], 'up_votes': '0', 'down_votes': '0', 'published': '2025-03-18 08:39:44', 'purchased': '2025-03-14 14:35:28'}, {'opinion_id': '19256445', 'author': 'o...0', 'recomend': 'Polecam', 'stars': '5/5', 'content': 'Świetna suszarka, polecam każdemu kto zastanawia się nad droższa wersja. Jestem bardzo zadowolona, warta swojej ceny! Polecam!', 'pros': [], 'cons': [], 'up_votes': '0', 'down_votes': '0', 'published': '2024-12-03 20:13:19', 'purchased': '2024-11-16 14:31:18'}, {'opinion_id': '19574346', 'author': 'a...1', 'recomend': 'Polecam', 'stars': '5/5', 'content': 'Suszarka rewelacja, suszenie zajmuje połowę mniej czasu  w porównaniu ze starą. Końcówki jeszcze do opanowania. Polecam', 'pros': ['bardzo estetyczny wy', 'głośność pracy', 'szybkość nagrzewania', 'wygląd'], 'cons': [], 'up_votes': '0', 'down_votes': '0', 'published': '2025-04-03 06:15:41', 'purchased': '2025-03-31 14:31:27'}, {'opinion_id': '19150464', 'author': 'l...k', 'recomend': 'Polecam', 'stars': '5/5', 'content': 'Mała, lekka, poręczna i dmucha jak szalona. Szybko się nagrzewa i co najważniejsze jest cicha. Polecam.', 'pros': ['głośność pracy', 'szybkość nagrzewania', 'wygląd'], 'cons': [], 'up_votes': '0', 'down_votes': '0', 'published': '2024-10-22 09:58:18', 'purchased': '2024-10-19 01:03:17'}, {'opinion_id': '19321151', 'author': 'k...a', 'recomend': 'Polecam', 'stars': '5/5', 'content': 'Suszarka jest niesamowita. Spełnia swoje zadanie w 200%. Super produkt, wszystkim polecam!', 'pros': [], 'cons': [], 'up_votes': '0', 'down_votes': '0', 'published': '2024-12-25 12:09:28', 'purchased': '2024-12-09 10:42:24'}, {'opinion_id': '18886159', 'author': 'z...3', 'recomend': 'Polecam', 'stars': '5/5', 'content': 'Suszarka jest poprostu SUPER!!!! Polecam...', 'pros': [], 'cons': [], 'up_votes': '0', 'down_votes': '0', 'published': '2024-08-15 13:54:05', 'purchased': '2024-07-31 15:08:38'}, {'opinion_id': '19338536', 'author': 'p...a', 'recomend': 'Polecam', 'stars': '5/5', 'content': 'Lepszej suszarki nigdy nie miałam', 'pros': ['głośność pracy', 'szybkość nagrzewania', 'wygląd'], 'cons': [], 'up_votes': '0', 'down_votes': '0', 'published': '2025-01-01 11:09:58', 'purchased': '2024-11-30 16:40:36'}, {'opinion_id': '19415389', 'author': 'a...2', 'recomend': 'Polecam', 'stars': '5/5', 'content': 'Świetna suszarka.', 'pros': [], 'cons': [], 'up_votes': '0', 'down_votes': '0', 'published': '2025-01-30 19:54:02', 'purchased': '2025-01-21 22:14:33'}, {'opinion_id': '19327197', 'author': 'o...a', 'recomend': 'Polecam', 'stars': '4,5/5', 'content': 'Brak opinii', 'pros': ['głośność pracy', 'szybkość nagrzewania', 'wygląd'], 'cons': [], 'up_votes': '0', 'down_votes': '0', 'published': '2024-12-27 12:54:09', 'purchased': '2024-12-09 20:46:08'}, {'opinion_id': '19200321', 'author': 'k...1', 'recomend': 'Polecam', 'stars': '5/5', 'content': 'It is good', 'pros': ['głośność pracy', 'szybkość nagrzewania', 'wygląd'], 'cons': [], 'up_votes': '0', 'down_votes': '0', 'published': '2024-11-13 08:45:36', 'purchased': '2024-11-08 12:21:42'}, {'opinion_id': '19504957', 'author': 'n...s', 'recomend': 'Polecam', 'stars': '5/5', 'content': 'Świetna', 'pros': [], 'cons': [], 'up_votes': '0', 'down_votes': '0', 'published': '2025-03-12 08:03:03', 'purchased': '2025-03-03 08:57:29'}]\n"
     ]
    }
   ],
   "source": [
    "product_id = \"167976636\"\n",
    "url = f\"https://www.ceneo.pl/{product_id}#tab=reviews\"\n",
    "all_opinions = []\n",
    "while url:\n",
    "    response = requests.get(url, headers=headers)\n",
    "    if response.status_code == 200:\n",
    "        page_dom = BeautifulSoup(response.text, \"html.parser\")\n",
    "        opinions = page_dom.select(\"div.js_product-review:not(.user-post--highlight)\")\n",
    "        for opinion in opinions:\n",
    "            single_opinion = {}\n",
    "            single_opinion['opinion_id'] = opinion[\"data-entry-id\"]\n",
    "            single_opinion['author'] = opinion.select_one(\"span.user-post__author-name\").text.strip()\n",
    "            try:\n",
    "                single_opinion['recomend'] = opinion.select_one(\"span.user-post__author-recomendation > em\").text.strip()\n",
    "            except AttributeError:\n",
    "                single_opinion['recomend'] = None\n",
    "            single_opinion['stars'] = opinion.select_one(\"span.user-post__score-count\").text.strip()\n",
    "            single_opinion['content'] = opinion.select_one(\"div.user-post__text\").text.strip()\n",
    "            single_opinion['pros'] = [tag.text for tag in opinion.select(\"div.review-feature__item.review-feature__item--positive\")]\n",
    "            single_opinion['cons'] = [tag.text for tag in opinion.select(\"div.review-feature__item.review-feature__item--negative\")]\n",
    "            single_opinion['up_votes'] = opinion.select_one(\"button.vote-yes\")[\"data-total-vote\"].strip()\n",
    "            single_opinion['down_votes'] = opinion.select_one(\"button.vote-no\")[\"data-total-vote\"].strip()\n",
    "            single_opinion['published'] = opinion.select_one(\"span.user-post__published > time:nth-child(1)\")[\"datetime\"].strip()\n",
    "            try:\n",
    "                single_opinion['purchased'] = opinion.select_one(\"span.user-post__published > span > time:nth-child(2)\")[\"datetime\"].strip()\n",
    "            except TypeError:\n",
    "                single_opinion['purchased'] = None\n",
    "            all_opinions.append(single_opinion)\n",
    "        try:\n",
    "            url = \"https://www.ceneo.pl\"+page_dom.select_one(\"a.pagination__next\")[\"href\"]\n",
    "        except TypeError:\n",
    "            url = None\n",
    "print(all_opinions)\n"
   ]
  },
  {
   "cell_type": "markdown",
   "metadata": {},
   "source": [
    "### Creation of database"
   ]
  },
  {
   "cell_type": "code",
   "execution_count": 26,
   "metadata": {},
   "outputs": [],
   "source": [
    "if not os.path.exists(\"./opinions\"):\n",
    "    os.mkdir(\"./opinions\")"
   ]
  },
  {
   "cell_type": "code",
   "execution_count": 27,
   "metadata": {},
   "outputs": [],
   "source": [
    "with open(f\"./opinions/{product_id}.json\", \"w\", encoding=\"UTF-8\") as jf:\n",
    "    json.dump(all_opinions, jf, indent=4, ensure_ascii=False)"
   ]
  }
 ],
 "metadata": {
  "kernelspec": {
   "display_name": ".venv",
   "language": "python",
   "name": "python3"
  },
  "language_info": {
   "codemirror_mode": {
    "name": "ipython",
    "version": 3
   },
   "file_extension": ".py",
   "mimetype": "text/x-python",
   "name": "python",
   "nbconvert_exporter": "python",
   "pygments_lexer": "ipython3",
   "version": "3.11.9"
  }
 },
 "nbformat": 4,
 "nbformat_minor": 2
}
