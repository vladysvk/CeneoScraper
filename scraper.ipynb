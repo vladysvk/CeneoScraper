{
 "cells": [
  {
   "cell_type": "markdown",
   "metadata": {},
   "source": [
    "### Imports"
   ]
  },
  {
   "cell_type": "code",
   "execution_count": 1,
   "metadata": {},
   "outputs": [],
   "source": [
    "import os\n",
    "import json\n",
    "import requests\n",
    "from bs4 import BeautifulSoup\n",
    "import datetime\n",
    "from deep_translator import GoogleTranslator"
   ]
  },
  {
   "cell_type": "markdown",
   "metadata": {},
   "source": [
    "### Utils"
   ]
  },
  {
   "cell_type": "code",
   "execution_count": 2,
   "metadata": {},
   "outputs": [],
   "source": [
    "def translate(text, source='pl', target='en'):\n",
    "    return GoogleTranslator(source, target).translate(text)"
   ]
  },
  {
   "cell_type": "code",
   "execution_count": 10,
   "metadata": {},
   "outputs": [],
   "source": [
    "def extract(ancestor, selector=None, attribute=None, multiple=False):\n",
    "    if selector:\n",
    "        if multiple:\n",
    "            if attribute:\n",
    "                return [tag[attribute].strip() for tag in ancestor.select(selector)]\n",
    "            return [tag.text.strip() for tag in ancestor.select(selector)]\n",
    "        if attribute:\n",
    "            try:\n",
    "                return ancestor.select_one(selector)[attribute].strip()\n",
    "            except TypeError:\n",
    "                return None\n",
    "            \n",
    "        try:\n",
    "            return ancestor.select_one(selector).text.strip()\n",
    "        except AttributeError:\n",
    "            return None\n",
    "    if attribute:\n",
    "        return ancestor[attribute]\n",
    "    return ancestor.text.strip()"
   ]
  },
  {
   "cell_type": "code",
   "execution_count": 11,
   "metadata": {},
   "outputs": [],
   "source": [
    "            \n",
    "selectors = {\n",
    "'opinion_id': (None, \"data-entry-id\"),\n",
    "'author': (\"span.user-post__author-name\",),\n",
    "'recomend': (\"span.user-post__author-recomendation > em\",),\n",
    "'stars':(\"span.user-post__score-count\",),\n",
    "'content_pl': (\"div.user-post__text\",),\n",
    "'pros_pl' :(\"div.review-feature__item.review-feature__item--positive\", None, True),\n",
    "'cons_pl' : (\"div.review-feature__item.review-feature__item--negative\", None, True),\n",
    "'up_votes' : (\"button.vote-yes\", \"data-total-vote\"),\n",
    "'down_votes' : (\"button.vote-no\", \"data-total-vote\"),\n",
    "'published' : (\"span.user-post__published > time:nth-child(1)\", \"datetime\"),\n",
    "'purchased' : (\"span.user-post__published > span > time:nth-child(2)\", \"datetime\")\n",
    "} "
   ]
  },
  {
   "cell_type": "markdown",
   "metadata": {},
   "source": [
    "### Extraction of opinions"
   ]
  },
  {
   "cell_type": "code",
   "execution_count": 12,
   "metadata": {},
   "outputs": [],
   "source": [
    "with open(\"./cookie.json\", \"r\", encoding=\"UTF-8\") as jf:\n",
    "   headers = json.load(jf)"
   ]
  },
  {
   "cell_type": "code",
   "execution_count": 13,
   "metadata": {},
   "outputs": [
    {
     "name": "stdout",
     "output_type": "stream",
     "text": [
      "https://www.ceneo.pl/167976636#tab=reviews\n",
      "https://www.ceneo.pl/167976636/opinie-2\n",
      "[{'opinion_id': '19535811', 'author': 'a...h', 'recomend': 'Polecam', 'stars': 5.0, 'content_pl': 'Świetna suszarka, spełnia wszystkie moje oczekiwania. Szybko suszy długie włosy. Mała, lekka i poręczna. Testuję dodatkowe końcówki do stylizacji. Jest też cicha suszarka więc nie mam już wyrzutów sumienia że budzę rodzinę nad ranem.', 'pros_pl': ['bardzo estetyczny wy', 'głośność pracy', 'mały gabaryt', 'moc', 'szybkość nagrzewania', 'świetne dodatki', 'wygląd'], 'cons_pl': [], 'up_votes': 0, 'down_votes': 0, 'published': '2025-03-19 16:39:41', 'purchased': '2025-03-03 07:48:53', 'content_en': 'A great dryer meets all my expectations. Dry long hair quickly. Small, light and handy. I test additional styling tips. There is also a quiet dryer so I have no remorse that I wake my family in the morning.', 'pros_en': ['very aesthetic', 'volume of work', 'small size', 'power', 'heating speed', 'great accessories', 'appearance'], 'cons_en': [], 'recomendation': True}, {'opinion_id': '19631782', 'author': 'j...7', 'recomend': None, 'stars': 3.5, 'content_pl': 'Produkt byłby super gdyby miał końcówkę skupiająca nawiew powietrza. Niestety przy długich włosach susząc tą suszarka strasznie plączą się końcówki ( mam włosy do pasa).  Ale wielkość, ciężar i cichość pracy na plus.', 'pros_pl': ['bardzo estetyczny wy', 'głośność pracy', 'mały gabaryt', 'moc', 'szybkość nagrzewania', 'świetne dodatki', 'wygląd'], 'cons_pl': [], 'up_votes': 0, 'down_votes': 0, 'published': '2025-05-03 12:34:08', 'purchased': '2025-03-31 15:03:35', 'content_en': 'The product would be great if it had an air supply tip. Unfortunately, with long hair, drying this dryer, the tips are terribly tangled (I have hair to the waist).  But the size, weight and quietness of work as a plus.', 'pros_en': ['very aesthetic', 'volume of work', 'small size', 'power', 'heating speed', 'great accessories', 'appearance'], 'cons_en': [], 'recomendation': None}, {'opinion_id': '19170406', 'author': 'i...a', 'recomend': 'Polecam', 'stars': 5.0, 'content_pl': 'Suszarka spełnia swoją funkcję, jest bardzo poręczna, mała ale o dużej mocy. Końcówki świetnie wygładzają lub kręcą włosy - zależnie od ustawień. Bardzo polecam ten produkt. Szczególnie w takiej cenie!', 'pros_pl': ['głośność pracy', 'szybkość nagrzewania', 'wygląd'], 'cons_pl': [], 'up_votes': 0, 'down_votes': 0, 'published': '2024-10-30 10:29:22', 'purchased': '2024-09-28 22:59:32', 'content_en': 'The dryer performs its function, it is very handy, small but with high power. The tips smooth or curl the hair - depending on the settings. I highly recommend this product. Especially at such a price!', 'pros_en': ['volume of work', 'heating speed', 'appearance'], 'cons_en': [], 'recomendation': True}, {'opinion_id': '19452211', 'author': 'a...2', 'recomend': 'Polecam', 'stars': 5.0, 'content_pl': 'Produkt dobrze wykonany. Moc bardzo dobra. Najlepsze suszarka jaką miałam do tej pory 😊.\\nPolecam bardzo, bardzo...', 'pros_pl': ['bardzo estetyczny wy', 'głośność pracy', 'mały gabaryt', 'moc', 'szybkość nagrzewania', 'świetne dodatki', 'wygląd'], 'cons_pl': [], 'up_votes': 0, 'down_votes': 0, 'published': '2025-02-16 19:29:49', 'purchased': '2025-01-19 22:36:40', 'content_en': 'A well -made product. Very good power. The best dryer I have had so far 😊.\\nI recommend very much ...', 'pros_en': ['very aesthetic', 'volume of work', 'small size', 'power', 'heating speed', 'great accessories', 'appearance'], 'cons_en': [], 'recomendation': True}, {'opinion_id': '19527462', 'author': 'd...a', 'recomend': 'Polecam', 'stars': 5.0, 'content_pl': 'Jak tylko odebrałam paczkę, od razu przetestowałam suszarkę. Na suchych włosach(!) użyłam wygładzania a potem lokówki. Rewelacja.', 'pros_pl': ['bardzo estetyczny wy', 'szybkość nagrzewania', 'wygląd'], 'cons_pl': [], 'up_votes': 0, 'down_votes': 0, 'published': '2025-03-18 08:39:44', 'purchased': '2025-03-14 14:35:28', 'content_en': 'As soon as I picked up the package, I immediately tested the dryer. On dry hair (!) I used smoothing and then a curler. Revelation.', 'pros_en': ['very aesthetic', 'heating speed', 'appearance'], 'cons_en': [], 'recomendation': True}, {'opinion_id': '19256445', 'author': 'o...0', 'recomend': 'Polecam', 'stars': 5.0, 'content_pl': 'Świetna suszarka, polecam każdemu kto zastanawia się nad droższa wersja. Jestem bardzo zadowolona, warta swojej ceny! Polecam!', 'pros_pl': [], 'cons_pl': [], 'up_votes': 0, 'down_votes': 0, 'published': '2024-12-03 20:13:19', 'purchased': '2024-11-16 14:31:18', 'content_en': 'A great dryer, I recommend it to anyone who is thinking about a more expensive version. I am very happy, worth the price! I recommend!', 'pros_en': [], 'cons_en': [], 'recomendation': True}, {'opinion_id': '19574346', 'author': 'a...1', 'recomend': 'Polecam', 'stars': 5.0, 'content_pl': 'Suszarka rewelacja, suszenie zajmuje połowę mniej czasu  w porównaniu ze starą. Końcówki jeszcze do opanowania. Polecam', 'pros_pl': ['bardzo estetyczny wy', 'głośność pracy', 'szybkość nagrzewania', 'wygląd'], 'cons_pl': [], 'up_votes': 0, 'down_votes': 0, 'published': '2025-04-03 06:15:41', 'purchased': '2025-03-31 14:31:27', 'content_en': 'A revelation dryer, drying takes half less time compared to the old one. The ends are still mastered. I recommend', 'pros_en': ['very aesthetic', 'volume of work', 'heating speed', 'appearance'], 'cons_en': [], 'recomendation': True}, {'opinion_id': '19150464', 'author': 'l...k', 'recomend': 'Polecam', 'stars': 5.0, 'content_pl': 'Mała, lekka, poręczna i dmucha jak szalona. Szybko się nagrzewa i co najważniejsze jest cicha. Polecam.', 'pros_pl': ['głośność pracy', 'szybkość nagrzewania', 'wygląd'], 'cons_pl': [], 'up_votes': 0, 'down_votes': 0, 'published': '2024-10-22 09:58:18', 'purchased': '2024-10-19 01:03:17', 'content_en': 'Small, light, handy and blows like crazy. It heats up quickly and most importantly is quiet. I recommend.', 'pros_en': ['volume of work', 'heating speed', 'appearance'], 'cons_en': [], 'recomendation': True}, {'opinion_id': '19321151', 'author': 'k...a', 'recomend': 'Polecam', 'stars': 5.0, 'content_pl': 'Suszarka jest niesamowita. Spełnia swoje zadanie w 200%. Super produkt, wszystkim polecam!', 'pros_pl': [], 'cons_pl': [], 'up_votes': 0, 'down_votes': 0, 'published': '2024-12-25 12:09:28', 'purchased': '2024-12-09 10:42:24', 'content_en': 'The dryer is amazing. Fulfills its task in 200%. Great product, I recommend it to everyone!', 'pros_en': [], 'cons_en': [], 'recomendation': True}, {'opinion_id': '19632155', 'author': 'e...n', 'recomend': 'Nie polecam', 'stars': 0.5, 'content_pl': 'Otrzymałam niesprawną suszarkę. Suszarka nie włączała się. Musiałam odesłać produkt w ramach reklamacji. Na obecna chwilę nie otrzymałam żadnej informacji o sposobie realizacji reklamacji. Pieniądze wydane a suszarki nie ma.', 'pros_pl': [], 'cons_pl': ['głośność pracy'], 'up_votes': 0, 'down_votes': 0, 'published': '2025-05-04 07:34:12', 'purchased': '2025-04-17 07:50:52', 'content_en': 'I received a malfunctioning dryer. The dryer did not turn on. I had to send the product as part of the complaint. At the moment I have not received any information about how to implement the complaint. Money spent and the dryer is not there.', 'pros_en': [], 'cons_en': ['volume of work'], 'recomendation': False}, {'opinion_id': '18886159', 'author': 'z...3', 'recomend': 'Polecam', 'stars': 5.0, 'content_pl': 'Suszarka jest poprostu SUPER!!!! Polecam...', 'pros_pl': [], 'cons_pl': [], 'up_votes': 0, 'down_votes': 0, 'published': '2024-08-15 13:54:05', 'purchased': '2024-07-31 15:08:38', 'content_en': 'The dryer is just great !!!! I recommend...', 'pros_en': [], 'cons_en': [], 'recomendation': True}, {'opinion_id': '19598837', 'author': 't...a', 'recomend': 'Polecam', 'stars': 5.0, 'content_pl': 'Pierwsze wrażenie bardzo pozytywne', 'pros_pl': ['bardzo estetyczny wy', 'głośność pracy', 'szybkość nagrzewania', 'wygląd'], 'cons_pl': [], 'up_votes': 0, 'down_votes': 0, 'published': '2025-04-15 08:25:35', 'purchased': '2025-03-30 22:09:00', 'content_en': 'The first impression is very positive', 'pros_en': ['very aesthetic', 'volume of work', 'heating speed', 'appearance'], 'cons_en': [], 'recomendation': True}, {'opinion_id': '19338536', 'author': 'p...a', 'recomend': 'Polecam', 'stars': 5.0, 'content_pl': 'Lepszej suszarki nigdy nie miałam', 'pros_pl': ['głośność pracy', 'szybkość nagrzewania', 'wygląd'], 'cons_pl': [], 'up_votes': 0, 'down_votes': 0, 'published': '2025-01-01 11:09:58', 'purchased': '2024-11-30 16:40:36', 'content_en': 'I never had a better dryer', 'pros_en': ['volume of work', 'heating speed', 'appearance'], 'cons_en': [], 'recomendation': True}, {'opinion_id': '19415389', 'author': 'a...2', 'recomend': 'Polecam', 'stars': 5.0, 'content_pl': 'Świetna suszarka.', 'pros_pl': [], 'cons_pl': [], 'up_votes': 0, 'down_votes': 0, 'published': '2025-01-30 19:54:02', 'purchased': '2025-01-21 22:14:33', 'content_en': 'Great dryer.', 'pros_en': [], 'cons_en': [], 'recomendation': True}, {'opinion_id': '19599777', 'author': 'z...4', 'recomend': 'Polecam', 'stars': 5.0, 'content_pl': 'super suszarka!', 'pros_pl': [], 'cons_pl': [], 'up_votes': 0, 'down_votes': 0, 'published': '2025-04-15 11:42:12', 'purchased': '2025-03-27 11:21:10', 'content_en': 'Super dryer!', 'pros_en': [], 'cons_en': [], 'recomendation': True}, {'opinion_id': '19327197', 'author': 'o...a', 'recomend': 'Polecam', 'stars': 4.5, 'content_pl': 'Brak opinii', 'pros_pl': ['głośność pracy', 'szybkość nagrzewania', 'wygląd'], 'cons_pl': [], 'up_votes': 0, 'down_votes': 0, 'published': '2024-12-27 12:54:09', 'purchased': '2024-12-09 20:46:08', 'content_en': 'Lack of opinions', 'pros_en': ['volume of work', 'heating speed', 'appearance'], 'cons_en': [], 'recomendation': True}, {'opinion_id': '19200321', 'author': 'k...1', 'recomend': 'Polecam', 'stars': 5.0, 'content_pl': 'It is good', 'pros_pl': ['głośność pracy', 'szybkość nagrzewania', 'wygląd'], 'cons_pl': [], 'up_votes': 0, 'down_votes': 0, 'published': '2024-11-13 08:45:36', 'purchased': '2024-11-08 12:21:42', 'content_en': 'It is good', 'pros_en': ['volume of work', 'heating speed', 'appearance'], 'cons_en': [], 'recomendation': True}, {'opinion_id': '19504957', 'author': 'n...s', 'recomend': 'Polecam', 'stars': 5.0, 'content_pl': 'Świetna', 'pros_pl': [], 'cons_pl': [], 'up_votes': 0, 'down_votes': 0, 'published': '2025-03-12 08:03:03', 'purchased': '2025-03-03 08:57:29', 'content_en': 'Great', 'pros_en': [], 'cons_en': [], 'recomendation': True}]\n"
     ]
    }
   ],
   "source": [
    "product_id = input(\"Please enter product code: \")\n",
    "url = f\"https://www.ceneo.pl/{product_id}#tab=reviews\"\n",
    "all_opinions = []\n",
    "while url:\n",
    "    response = requests.get(url, headers=headers)\n",
    "    if response.status_code == 200:\n",
    "        print(url)\n",
    "        page_dom = BeautifulSoup(response.text, \"html.parser\")\n",
    "        opinions = page_dom.select(\"div.js_product-review:not(.user-post--highlight)\")\n",
    "        for opinion in opinions:\n",
    "            single_opinion = {\n",
    "                key: extract(opinion, *values) \n",
    "                for key, values in selectors.items()\n",
    "            }\n",
    "            single_opinion[\"content_en\"] = translate(single_opinion[\"content_pl\"])\n",
    "            single_opinion[\"pros_en\"] = [translate(pros) for pros in single_opinion[\"pros_pl\"]]\n",
    "            single_opinion[\"cons_en\"] = [translate(cons) for cons in single_opinion[\"cons_pl\"]]\n",
    "            single_opinion[\"recomendation\"] = True if single_opinion[\"recomend\"] == \"Polecam\" else False if single_opinion[\"recomend\"] == \"Nie polecam\" else None\n",
    "            single_opinion[\"stars\"] = float(single_opinion[\"stars\"].split(\"/\")[0].replace(\",\", \".\"))\n",
    "            #single_opinion[\"published\"] = datetime.datetime.fromisoformat(single_opinion[\"published\"])\n",
    "            #single_opinion[\"purchased\"] = datetime.datetime.fromisoformat(single_opinion[\"purchased\"]) if single_opinion[\"purchased\"] else None\n",
    "            single_opinion[\"up_votes\"] = int(single_opinion[\"up_votes\"])\n",
    "            single_opinion[\"down_votes\"] = int(single_opinion[\"down_votes\"])\n",
    "            all_opinions.append(single_opinion)\n",
    "        try:\n",
    "            url = \"https://www.ceneo.pl\"+page_dom.select_one(\"a.pagination__next\")[\"href\"]\n",
    "        except TypeError:\n",
    "            url = None\n",
    "print(all_opinions)\n"
   ]
  },
  {
   "cell_type": "markdown",
   "metadata": {},
   "source": [
    "### Creation of database"
   ]
  },
  {
   "cell_type": "code",
   "execution_count": 14,
   "metadata": {},
   "outputs": [],
   "source": [
    "if not os.path.exists(\"./opinions\"):\n",
    "    os.mkdir(\"./opinions\")"
   ]
  },
  {
   "cell_type": "code",
   "execution_count": 15,
   "metadata": {},
   "outputs": [],
   "source": [
    "with open(f\"./opinions/{product_id}.json\", \"w\", encoding=\"UTF-8\") as jf:\n",
    "    json.dump(all_opinions, jf, indent=4, ensure_ascii=False)"
   ]
  }
 ],
 "metadata": {
  "kernelspec": {
   "display_name": ".venv",
   "language": "python",
   "name": "python3"
  },
  "language_info": {
   "codemirror_mode": {
    "name": "ipython",
    "version": 3
   },
   "file_extension": ".py",
   "mimetype": "text/x-python",
   "name": "python",
   "nbconvert_exporter": "python",
   "pygments_lexer": "ipython3",
   "version": "3.11.9"
  }
 },
 "nbformat": 4,
 "nbformat_minor": 2
}
